{
  "nbformat": 4,
  "nbformat_minor": 0,
  "metadata": {
    "colab": {
      "name": "Autoencoder,Variational Autoencoder , Sparsity Autoencoder .ipynb",
      "provenance": [],
      "collapsed_sections": [],
      "toc_visible": true
    },
    "kernelspec": {
      "name": "python3",
      "display_name": "Python 3"
    },
    "language_info": {
      "name": "python"
    }
  },
  "cells": [
    {
      "cell_type": "code",
      "metadata": {
        "id": "0hKmOFS7aaWi"
      },
      "source": [
        "import pandas as pd\n",
        "import numpy as np\n",
        "import matplotlib.pyplot as plt\n",
        "import seaborn as sns\n",
        "import warnings\n",
        "\n",
        "warnings.filterwarnings('ignore')"
      ],
      "execution_count": 1,
      "outputs": []
    },
    {
      "cell_type": "code",
      "metadata": {
        "id": "PbdeCSVnajBT"
      },
      "source": [
        "from __future__ import print_function\n",
        "from keras.models import Model\n",
        "from keras.layers import Dense, Input\n",
        "from keras.datasets import mnist\n",
        "from keras.regularizers import l1\n",
        "from keras.optimizers import Adam\n",
        "import keras\n",
        "from keras import layers"
      ],
      "execution_count": 20,
      "outputs": []
    },
    {
      "cell_type": "code",
      "metadata": {
        "colab": {
          "base_uri": "https://localhost:8080/"
        },
        "id": "BD_8bckrajEN",
        "outputId": "ad8ec757-5ee9-45e2-b8c6-51dfdca04595"
      },
      "source": [
        "(x_train, _), (x_test, _) = fashion_mnist.load_data()"
      ],
      "execution_count": null,
      "outputs": [
        {
          "output_type": "stream",
          "text": [
            "Downloading data from https://storage.googleapis.com/tensorflow/tf-keras-datasets/train-labels-idx1-ubyte.gz\n",
            "32768/29515 [=================================] - 0s 0us/step\n",
            "Downloading data from https://storage.googleapis.com/tensorflow/tf-keras-datasets/train-images-idx3-ubyte.gz\n",
            "26427392/26421880 [==============================] - 0s 0us/step\n",
            "Downloading data from https://storage.googleapis.com/tensorflow/tf-keras-datasets/t10k-labels-idx1-ubyte.gz\n",
            "8192/5148 [===============================================] - 0s 0us/step\n",
            "Downloading data from https://storage.googleapis.com/tensorflow/tf-keras-datasets/t10k-images-idx3-ubyte.gz\n",
            "4423680/4422102 [==============================] - 0s 0us/step\n"
          ],
          "name": "stdout"
        }
      ]
    },
    {
      "cell_type": "code",
      "metadata": {
        "colab": {
          "base_uri": "https://localhost:8080/"
        },
        "id": "LU48HFFIajJX",
        "outputId": "8672e8a2-71ed-48b8-ab11-0a7e8a434eb1"
      },
      "source": [
        "x_train = x_train.astype('float32') / 255.\n",
        "x_test = x_test.astype('float32') / 255.\n",
        "x_train = x_train.reshape((len(x_train), np.prod(x_train.shape[1:])))\n",
        "x_test = x_test.reshape((len(x_test), np.prod(x_test.shape[1:])))\n",
        "print(x_train.shape)\n",
        "print(x_test.shape)"
      ],
      "execution_count": null,
      "outputs": [
        {
          "output_type": "stream",
          "text": [
            "(60000, 784)\n",
            "(10000, 784)\n"
          ],
          "name": "stdout"
        }
      ]
    },
    {
      "cell_type": "code",
      "metadata": {
        "id": "8asoIkDhhmEE"
      },
      "source": [
        "encoding_dim = 32  \n",
        "input_img = keras.Input(shape=(784,))\n",
        "encoded = layers.Dense(encoding_dim, activation='relu')(input_img)\n",
        "decoded = layers.Dense(784, activation='sigmoid')(encoded)\n",
        "autoencoder = keras.Model(input_img, decoded)\n",
        "autoencoder.compile(optimizer='adam', loss='binary_crossentropy')"
      ],
      "execution_count": null,
      "outputs": []
    },
    {
      "cell_type": "code",
      "metadata": {
        "id": "h6PtmXDpo4iI"
      },
      "source": [
        "encoder = keras.Model(input_img, encoded)\n",
        "encoded_input = keras.Input(shape=(encoding_dim,))\n",
        "decoder_layer = autoencoder.layers[-1]\n",
        "decoder = keras.Model(encoded_input, decoder_layer(encoded_input))"
      ],
      "execution_count": null,
      "outputs": []
    },
    {
      "cell_type": "code",
      "metadata": {
        "colab": {
          "base_uri": "https://localhost:8080/"
        },
        "id": "NvZGf6YhhmJK",
        "outputId": "df992c8d-3f59-4e02-d89f-6f460b779685"
      },
      "source": [
        "autoencoder.fit(x_train, x_train,epochs=50,batch_size=256,shuffle=True,validation_data=(x_test, x_test))"
      ],
      "execution_count": null,
      "outputs": [
        {
          "output_type": "stream",
          "text": [
            "Epoch 1/50\n",
            "235/235 [==============================] - 3s 12ms/step - loss: 0.4994 - val_loss: 0.3460\n",
            "Epoch 2/50\n",
            "235/235 [==============================] - 3s 11ms/step - loss: 0.3358 - val_loss: 0.3203\n",
            "Epoch 3/50\n",
            "235/235 [==============================] - 3s 11ms/step - loss: 0.3143 - val_loss: 0.3069\n",
            "Epoch 4/50\n",
            "235/235 [==============================] - 2s 11ms/step - loss: 0.3021 - val_loss: 0.2996\n",
            "Epoch 5/50\n",
            "235/235 [==============================] - 3s 12ms/step - loss: 0.2958 - val_loss: 0.2949\n",
            "Epoch 6/50\n",
            "235/235 [==============================] - 3s 12ms/step - loss: 0.2923 - val_loss: 0.2920\n",
            "Epoch 7/50\n",
            "235/235 [==============================] - 3s 12ms/step - loss: 0.2896 - val_loss: 0.2901\n",
            "Epoch 8/50\n",
            "235/235 [==============================] - 3s 12ms/step - loss: 0.2874 - val_loss: 0.2888\n",
            "Epoch 9/50\n",
            "235/235 [==============================] - 3s 11ms/step - loss: 0.2855 - val_loss: 0.2879\n",
            "Epoch 10/50\n",
            "235/235 [==============================] - 3s 12ms/step - loss: 0.2858 - val_loss: 0.2873\n",
            "Epoch 11/50\n",
            "235/235 [==============================] - 3s 12ms/step - loss: 0.2850 - val_loss: 0.2873\n",
            "Epoch 12/50\n",
            "235/235 [==============================] - 3s 12ms/step - loss: 0.2846 - val_loss: 0.2864\n",
            "Epoch 13/50\n",
            "235/235 [==============================] - 3s 12ms/step - loss: 0.2839 - val_loss: 0.2861\n",
            "Epoch 14/50\n",
            "235/235 [==============================] - 3s 12ms/step - loss: 0.2840 - val_loss: 0.2860\n",
            "Epoch 15/50\n",
            "235/235 [==============================] - 3s 12ms/step - loss: 0.2838 - val_loss: 0.2857\n",
            "Epoch 16/50\n",
            "235/235 [==============================] - 3s 12ms/step - loss: 0.2830 - val_loss: 0.2855\n",
            "Epoch 17/50\n",
            "235/235 [==============================] - 3s 12ms/step - loss: 0.2830 - val_loss: 0.2853\n",
            "Epoch 18/50\n",
            "235/235 [==============================] - 3s 12ms/step - loss: 0.2838 - val_loss: 0.2853\n",
            "Epoch 19/50\n",
            "235/235 [==============================] - 3s 12ms/step - loss: 0.2827 - val_loss: 0.2853\n",
            "Epoch 20/50\n",
            "235/235 [==============================] - 3s 12ms/step - loss: 0.2829 - val_loss: 0.2850\n",
            "Epoch 21/50\n",
            "235/235 [==============================] - 3s 12ms/step - loss: 0.2831 - val_loss: 0.2849\n",
            "Epoch 22/50\n",
            "235/235 [==============================] - 3s 12ms/step - loss: 0.2824 - val_loss: 0.2848\n",
            "Epoch 23/50\n",
            "235/235 [==============================] - 3s 11ms/step - loss: 0.2831 - val_loss: 0.2848\n",
            "Epoch 24/50\n",
            "235/235 [==============================] - 3s 12ms/step - loss: 0.2824 - val_loss: 0.2848\n",
            "Epoch 25/50\n",
            "235/235 [==============================] - 3s 12ms/step - loss: 0.2819 - val_loss: 0.2848\n",
            "Epoch 26/50\n",
            "235/235 [==============================] - 3s 12ms/step - loss: 0.2821 - val_loss: 0.2846\n",
            "Epoch 27/50\n",
            "235/235 [==============================] - 3s 11ms/step - loss: 0.2826 - val_loss: 0.2845\n",
            "Epoch 28/50\n",
            "235/235 [==============================] - 3s 12ms/step - loss: 0.2828 - val_loss: 0.2844\n",
            "Epoch 29/50\n",
            "235/235 [==============================] - 3s 12ms/step - loss: 0.2820 - val_loss: 0.2847\n",
            "Epoch 30/50\n",
            "235/235 [==============================] - 3s 12ms/step - loss: 0.2822 - val_loss: 0.2844\n",
            "Epoch 31/50\n",
            "235/235 [==============================] - 3s 12ms/step - loss: 0.2821 - val_loss: 0.2844\n",
            "Epoch 32/50\n",
            "235/235 [==============================] - 3s 12ms/step - loss: 0.2821 - val_loss: 0.2843\n",
            "Epoch 33/50\n",
            "235/235 [==============================] - 3s 12ms/step - loss: 0.2825 - val_loss: 0.2843\n",
            "Epoch 34/50\n",
            "235/235 [==============================] - 3s 12ms/step - loss: 0.2815 - val_loss: 0.2843\n",
            "Epoch 35/50\n",
            "235/235 [==============================] - 3s 12ms/step - loss: 0.2816 - val_loss: 0.2843\n",
            "Epoch 36/50\n",
            "235/235 [==============================] - 3s 12ms/step - loss: 0.2817 - val_loss: 0.2842\n",
            "Epoch 37/50\n",
            "235/235 [==============================] - 3s 12ms/step - loss: 0.2822 - val_loss: 0.2842\n",
            "Epoch 38/50\n",
            "235/235 [==============================] - 3s 12ms/step - loss: 0.2815 - val_loss: 0.2842\n",
            "Epoch 39/50\n",
            "235/235 [==============================] - 3s 12ms/step - loss: 0.2815 - val_loss: 0.2841\n",
            "Epoch 40/50\n",
            "235/235 [==============================] - 3s 12ms/step - loss: 0.2819 - val_loss: 0.2842\n",
            "Epoch 41/50\n",
            "235/235 [==============================] - 3s 12ms/step - loss: 0.2814 - val_loss: 0.2841\n",
            "Epoch 42/50\n",
            "235/235 [==============================] - 3s 12ms/step - loss: 0.2820 - val_loss: 0.2841\n",
            "Epoch 43/50\n",
            "235/235 [==============================] - 3s 12ms/step - loss: 0.2811 - val_loss: 0.2841\n",
            "Epoch 44/50\n",
            "235/235 [==============================] - 3s 12ms/step - loss: 0.2820 - val_loss: 0.2841\n",
            "Epoch 45/50\n",
            "235/235 [==============================] - 3s 12ms/step - loss: 0.2819 - val_loss: 0.2840\n",
            "Epoch 46/50\n",
            "235/235 [==============================] - 3s 11ms/step - loss: 0.2821 - val_loss: 0.2841\n",
            "Epoch 47/50\n",
            "235/235 [==============================] - 3s 12ms/step - loss: 0.2813 - val_loss: 0.2840\n",
            "Epoch 48/50\n",
            "235/235 [==============================] - 3s 12ms/step - loss: 0.2813 - val_loss: 0.2839\n",
            "Epoch 49/50\n",
            "235/235 [==============================] - 3s 12ms/step - loss: 0.2821 - val_loss: 0.2839\n",
            "Epoch 50/50\n",
            "235/235 [==============================] - 3s 12ms/step - loss: 0.2810 - val_loss: 0.2839\n"
          ],
          "name": "stdout"
        },
        {
          "output_type": "execute_result",
          "data": {
            "text/plain": [
              "<tensorflow.python.keras.callbacks.History at 0x7fd2d9901150>"
            ]
          },
          "metadata": {
            "tags": []
          },
          "execution_count": 27
        }
      ]
    },
    {
      "cell_type": "code",
      "metadata": {
        "id": "XBPWOUJQp-4G"
      },
      "source": [
        "encoded_imgs = encoder.predict(x_test)\n",
        "decoded_imgs = decoder.predict(encoded_imgs)"
      ],
      "execution_count": null,
      "outputs": []
    },
    {
      "cell_type": "code",
      "metadata": {
        "colab": {
          "base_uri": "https://localhost:8080/",
          "height": 247
        },
        "id": "Q5_jDe2oajKl",
        "outputId": "309910c0-9521-4ab6-eecd-195caf538218"
      },
      "source": [
        "import matplotlib.pyplot as plt\n",
        "\n",
        "n = 10  # How many digits we will display\n",
        "plt.figure(figsize=(20, 4))\n",
        "for i in range(n):\n",
        "    # Display original\n",
        "    ax = plt.subplot(2, n, i + 1)\n",
        "    plt.imshow(x_test[i].reshape(28, 28))\n",
        "    plt.gray()\n",
        "    ax.get_xaxis().set_visible(False)\n",
        "    ax.get_yaxis().set_visible(False)\n",
        "\n",
        "\n",
        "    ax = plt.subplot(2, n, i + 1 + n)\n",
        "    plt.imshow(decoded_imgs[i].reshape(28, 28))\n",
        "    plt.gray()\n",
        "    ax.get_xaxis().set_visible(False)\n",
        "    ax.get_yaxis().set_visible(False)\n",
        "plt.show()"
      ],
      "execution_count": null,
      "outputs": [
        {
          "output_type": "display_data",
          "data": {
            "image/png": "[encoded data removed]",
            "text/plain": [
              "<Figure size 1440x288 with 20 Axes>"
            ]
          },
          "metadata": {
            "tags": [],
            "needs_background": "light"
          }
        }
      ]
    },
    {
      "cell_type": "code",
      "metadata": {
        "id": "ay9kt64tajN7"
      },
      "source": [
        "### SPARSE AUTOENCODER ##############"
      ],
      "execution_count": null,
      "outputs": []
    },
    {
      "cell_type": "code",
      "metadata": {
        "id": "wKuzZtjwajRH"
      },
      "source": [
        "from keras import regularizers\n",
        "\n",
        "encoding_dim = 32\n",
        "\n",
        "input_img = keras.Input(shape=(784,))\n",
        "encoded = layers.Dense(encoding_dim, activation='relu',activity_regularizer=regularizers.l2(10e-005))(input_img)\n",
        "decoded = layers.Dense(784, activation='sigmoid')(encoded)\n",
        "autoencoder = keras.Model(input_img, decoded)\n",
        "autoencoder.compile(optimizer='adam', loss='binary_crossentropy')"
      ],
      "execution_count": null,
      "outputs": []
    },
    {
      "cell_type": "code",
      "metadata": {
        "id": "7TGZ2j-HajUX"
      },
      "source": [
        "encoder = keras.Model(input_img, encoded)\n",
        "encoded_input = keras.Input(shape=(encoding_dim,))\n",
        "decoder_layer = autoencoder.layers[-1]\n",
        "decoder = keras.Model(encoded_input, decoder_layer(encoded_input))"
      ],
      "execution_count": null,
      "outputs": []
    },
    {
      "cell_type": "code",
      "metadata": {
        "colab": {
          "base_uri": "https://localhost:8080/"
        },
        "id": "JoaW4gXeajXK",
        "outputId": "a13aa347-6a72-442e-df74-bee2a430550e"
      },
      "source": [
        "autoencoder.fit(x_train, x_train,epochs=50,batch_size=256,shuffle=True,validation_data=(x_test, x_test))"
      ],
      "execution_count": null,
      "outputs": [
        {
          "output_type": "stream",
          "text": [
            "Epoch 1/50\n",
            "235/235 [==============================] - 3s 12ms/step - loss: 0.5182 - val_loss: 0.3645\n",
            "Epoch 2/50\n",
            "235/235 [==============================] - 3s 11ms/step - loss: 0.3528 - val_loss: 0.3344\n",
            "Epoch 3/50\n",
            "235/235 [==============================] - 3s 12ms/step - loss: 0.3281 - val_loss: 0.3205\n",
            "Epoch 4/50\n",
            "235/235 [==============================] - 3s 12ms/step - loss: 0.3154 - val_loss: 0.3119\n",
            "Epoch 5/50\n",
            "235/235 [==============================] - 3s 12ms/step - loss: 0.3087 - val_loss: 0.3063\n",
            "Epoch 6/50\n",
            "235/235 [==============================] - 3s 11ms/step - loss: 0.3035 - val_loss: 0.3029\n",
            "Epoch 7/50\n",
            "235/235 [==============================] - 3s 12ms/step - loss: 0.3006 - val_loss: 0.3009\n",
            "Epoch 8/50\n",
            "235/235 [==============================] - 3s 12ms/step - loss: 0.2978 - val_loss: 0.2990\n",
            "Epoch 9/50\n",
            "235/235 [==============================] - 3s 12ms/step - loss: 0.2964 - val_loss: 0.2978\n",
            "Epoch 10/50\n",
            "235/235 [==============================] - 3s 12ms/step - loss: 0.2955 - val_loss: 0.2964\n",
            "Epoch 11/50\n",
            "235/235 [==============================] - 3s 12ms/step - loss: 0.2934 - val_loss: 0.2953\n",
            "Epoch 12/50\n",
            "235/235 [==============================] - 3s 12ms/step - loss: 0.2921 - val_loss: 0.2947\n",
            "Epoch 13/50\n",
            "235/235 [==============================] - 3s 12ms/step - loss: 0.2924 - val_loss: 0.2940\n",
            "Epoch 14/50\n",
            "235/235 [==============================] - 3s 12ms/step - loss: 0.2909 - val_loss: 0.2932\n",
            "Epoch 15/50\n",
            "235/235 [==============================] - 3s 12ms/step - loss: 0.2912 - val_loss: 0.2928\n",
            "Epoch 16/50\n",
            "235/235 [==============================] - 3s 12ms/step - loss: 0.2906 - val_loss: 0.2925\n",
            "Epoch 17/50\n",
            "235/235 [==============================] - 3s 11ms/step - loss: 0.2900 - val_loss: 0.2920\n",
            "Epoch 18/50\n",
            "235/235 [==============================] - 3s 12ms/step - loss: 0.2890 - val_loss: 0.2916\n",
            "Epoch 19/50\n",
            "235/235 [==============================] - 3s 12ms/step - loss: 0.2887 - val_loss: 0.2915\n",
            "Epoch 20/50\n",
            "235/235 [==============================] - 3s 12ms/step - loss: 0.2891 - val_loss: 0.2909\n",
            "Epoch 21/50\n",
            "235/235 [==============================] - 3s 12ms/step - loss: 0.2882 - val_loss: 0.2909\n",
            "Epoch 22/50\n",
            "235/235 [==============================] - 3s 12ms/step - loss: 0.2884 - val_loss: 0.2902\n",
            "Epoch 23/50\n",
            "235/235 [==============================] - 3s 12ms/step - loss: 0.2877 - val_loss: 0.2902\n",
            "Epoch 24/50\n",
            "235/235 [==============================] - 3s 12ms/step - loss: 0.2871 - val_loss: 0.2899\n",
            "Epoch 25/50\n",
            "235/235 [==============================] - 3s 12ms/step - loss: 0.2868 - val_loss: 0.2897\n",
            "Epoch 26/50\n",
            "235/235 [==============================] - 3s 12ms/step - loss: 0.2868 - val_loss: 0.2895\n",
            "Epoch 27/50\n",
            "235/235 [==============================] - 3s 11ms/step - loss: 0.2882 - val_loss: 0.2894\n",
            "Epoch 28/50\n",
            "235/235 [==============================] - 3s 12ms/step - loss: 0.2873 - val_loss: 0.2891\n",
            "Epoch 29/50\n",
            "235/235 [==============================] - 3s 12ms/step - loss: 0.2867 - val_loss: 0.2889\n",
            "Epoch 30/50\n",
            "235/235 [==============================] - 3s 12ms/step - loss: 0.2868 - val_loss: 0.2888\n",
            "Epoch 31/50\n",
            "235/235 [==============================] - 3s 12ms/step - loss: 0.2869 - val_loss: 0.2886\n",
            "Epoch 32/50\n",
            "235/235 [==============================] - 3s 12ms/step - loss: 0.2864 - val_loss: 0.2885\n",
            "Epoch 33/50\n",
            "235/235 [==============================] - 3s 12ms/step - loss: 0.2863 - val_loss: 0.2884\n",
            "Epoch 34/50\n",
            "235/235 [==============================] - 3s 12ms/step - loss: 0.2854 - val_loss: 0.2885\n",
            "Epoch 35/50\n",
            "235/235 [==============================] - 3s 11ms/step - loss: 0.2854 - val_loss: 0.2881\n",
            "Epoch 36/50\n",
            "235/235 [==============================] - 3s 12ms/step - loss: 0.2856 - val_loss: 0.2881\n",
            "Epoch 37/50\n",
            "235/235 [==============================] - 3s 12ms/step - loss: 0.2850 - val_loss: 0.2879\n",
            "Epoch 38/50\n",
            "235/235 [==============================] - 3s 12ms/step - loss: 0.2852 - val_loss: 0.2878\n",
            "Epoch 39/50\n",
            "235/235 [==============================] - 3s 12ms/step - loss: 0.2852 - val_loss: 0.2883\n",
            "Epoch 40/50\n",
            "235/235 [==============================] - 3s 13ms/step - loss: 0.2849 - val_loss: 0.2879\n",
            "Epoch 41/50\n",
            "235/235 [==============================] - 3s 12ms/step - loss: 0.2852 - val_loss: 0.2879\n",
            "Epoch 42/50\n",
            "235/235 [==============================] - 3s 12ms/step - loss: 0.2851 - val_loss: 0.2876\n",
            "Epoch 43/50\n",
            "235/235 [==============================] - 3s 12ms/step - loss: 0.2849 - val_loss: 0.2874\n",
            "Epoch 44/50\n",
            "235/235 [==============================] - 3s 12ms/step - loss: 0.2846 - val_loss: 0.2873\n",
            "Epoch 45/50\n",
            "235/235 [==============================] - 3s 12ms/step - loss: 0.2858 - val_loss: 0.2872\n",
            "Epoch 46/50\n",
            "235/235 [==============================] - 3s 12ms/step - loss: 0.2855 - val_loss: 0.2875\n",
            "Epoch 47/50\n",
            "235/235 [==============================] - 3s 12ms/step - loss: 0.2847 - val_loss: 0.2872\n",
            "Epoch 48/50\n",
            "235/235 [==============================] - 3s 12ms/step - loss: 0.2847 - val_loss: 0.2876\n",
            "Epoch 49/50\n",
            "235/235 [==============================] - 3s 12ms/step - loss: 0.2849 - val_loss: 0.2870\n",
            "Epoch 50/50\n",
            "235/235 [==============================] - 3s 12ms/step - loss: 0.2841 - val_loss: 0.2869\n"
          ],
          "name": "stdout"
        },
        {
          "output_type": "execute_result",
          "data": {
            "text/plain": [
              "<tensorflow.python.keras.callbacks.History at 0x7fd2d9909a10>"
            ]
          },
          "metadata": {
            "tags": []
          },
          "execution_count": 35
        }
      ]
    },
    {
      "cell_type": "code",
      "metadata": {
        "id": "x817CmGFajcx"
      },
      "source": [
        "encoded_imgs = encoder.predict(x_test)\n",
        "decoded_imgs = decoder.predict(encoded_imgs)"
      ],
      "execution_count": null,
      "outputs": []
    },
    {
      "cell_type": "code",
      "metadata": {
        "colab": {
          "base_uri": "https://localhost:8080/",
          "height": 247
        },
        "id": "dbh-lglCajhW",
        "outputId": "76fbd6c4-9afa-44b1-e270-bb59af0dfa70"
      },
      "source": [
        "import matplotlib.pyplot as plt\n",
        "\n",
        "n = 10  # How many digits we will display\n",
        "plt.figure(figsize=(20, 4))\n",
        "for i in range(n):\n",
        "    # Display original\n",
        "    ax = plt.subplot(2, n, i + 1)\n",
        "    plt.imshow(x_test[i].reshape(28, 28))\n",
        "    plt.gray()\n",
        "    ax.get_xaxis().set_visible(False)\n",
        "    ax.get_yaxis().set_visible(False)\n",
        "\n",
        "\n",
        "    ax = plt.subplot(2, n, i + 1 + n)\n",
        "    plt.imshow(decoded_imgs[i].reshape(28, 28))\n",
        "    plt.gray()\n",
        "    ax.get_xaxis().set_visible(False)\n",
        "    ax.get_yaxis().set_visible(False)\n",
        "plt.show()"
      ],
      "execution_count": null,
      "outputs": [
        {
          "output_type": "display_data",
          "data": {
            "image/png": "[encoded data removed]",
            "text/plain": [
              "<Figure size 1440x288 with 20 Axes>"
            ]
          },
          "metadata": {
            "tags": [],
            "needs_background": "light"
          }
        }
      ]
    },
    {
      "cell_type": "markdown",
      "metadata": {
        "id": "qxwGI3UmuoWk"
      },
      "source": [
        "# ##### Deep autoencoder ############***"
      ]
    },
    {
      "cell_type": "code",
      "metadata": {
        "id": "a1OGVw2fsR-e"
      },
      "source": [
        "(x_train, _), (x_test, _) = fashion_mnist.load_data()"
      ],
      "execution_count": null,
      "outputs": []
    },
    {
      "cell_type": "code",
      "metadata": {
        "colab": {
          "base_uri": "https://localhost:8080/"
        },
        "id": "IVb_hmJ9sSC2",
        "outputId": "b23488fc-20ec-40d1-82f0-a0ef58df249e"
      },
      "source": [
        "x_train = x_train.astype('float32') / 255.\n",
        "x_test = x_test.astype('float32') / 255.\n",
        "x_train = x_train.reshape((len(x_train), np.prod(x_train.shape[1:])))\n",
        "x_test = x_test.reshape((len(x_test), np.prod(x_test.shape[1:])))\n",
        "print(x_train.shape)\n",
        "print(x_test.shape)"
      ],
      "execution_count": null,
      "outputs": [
        {
          "output_type": "stream",
          "text": [
            "(60000, 784)\n",
            "(10000, 784)\n"
          ],
          "name": "stdout"
        }
      ]
    },
    {
      "cell_type": "code",
      "metadata": {
        "id": "cggGCzF8sSIT"
      },
      "source": [
        "encoding_dim = 32  \n",
        "input_img = keras.Input(shape=(784,))\n",
        "encoded = layers.Dense(128, activation='relu')(input_img)\n",
        "encoded = layers.Dense(64, activation='relu')(encoded)\n",
        "encoded = layers.Dense(32, activation='relu')(encoded)\n",
        "\n",
        "decoded = layers.Dense(64, activation='relu')(encoded)\n",
        "decoded = layers.Dense(128, activation='relu')(decoded)\n",
        "decoded = layers.Dense(784, activation='softmax')(decoded)"
      ],
      "execution_count": null,
      "outputs": []
    },
    {
      "cell_type": "code",
      "metadata": {
        "colab": {
          "base_uri": "https://localhost:8080/"
        },
        "id": "UNb0vKirsSSM",
        "outputId": "e25c96f3-2d4c-45d5-db4e-b8204423bb19"
      },
      "source": [
        "autoencoder = keras.Model(input_img, decoded)\n",
        "autoencoder.compile(optimizer='adam', loss='binary_crossentropy')\n",
        "autoencoder.fit(x_train, x_train,epochs=100,batch_size=256,shuffle=True,validation_data=(x_test, x_test))"
      ],
      "execution_count": null,
      "outputs": [
        {
          "output_type": "stream",
          "text": [
            "Epoch 1/100\n",
            "235/235 [==============================] - 5s 19ms/step - loss: 0.2864 - val_loss: 0.2821\n",
            "Epoch 2/100\n",
            "235/235 [==============================] - 4s 18ms/step - loss: 0.2786 - val_loss: 0.2818\n",
            "Epoch 3/100\n",
            "235/235 [==============================] - 4s 18ms/step - loss: 0.2789 - val_loss: 0.2813\n",
            "Epoch 4/100\n",
            "235/235 [==============================] - 4s 19ms/step - loss: 0.2787 - val_loss: 0.2811\n",
            "Epoch 5/100\n",
            "235/235 [==============================] - 4s 18ms/step - loss: 0.2787 - val_loss: 0.2809\n",
            "Epoch 6/100\n",
            "235/235 [==============================] - 4s 19ms/step - loss: 0.2783 - val_loss: 0.2806\n",
            "Epoch 7/100\n",
            "235/235 [==============================] - 4s 17ms/step - loss: 0.2784 - val_loss: 0.2805\n",
            "Epoch 8/100\n",
            "235/235 [==============================] - 4s 18ms/step - loss: 0.2780 - val_loss: 0.2801\n",
            "Epoch 9/100\n",
            "235/235 [==============================] - 4s 17ms/step - loss: 0.2779 - val_loss: 0.2801\n",
            "Epoch 10/100\n",
            "235/235 [==============================] - 4s 18ms/step - loss: 0.2772 - val_loss: 0.2795\n",
            "Epoch 11/100\n",
            "235/235 [==============================] - 4s 18ms/step - loss: 0.2772 - val_loss: 0.2795\n",
            "Epoch 12/100\n",
            "235/235 [==============================] - 4s 16ms/step - loss: 0.2764 - val_loss: 0.2791\n",
            "Epoch 13/100\n",
            "235/235 [==============================] - 4s 18ms/step - loss: 0.2764 - val_loss: 0.2788\n",
            "Epoch 14/100\n",
            "235/235 [==============================] - 4s 18ms/step - loss: 0.2765 - val_loss: 0.2792\n",
            "Epoch 15/100\n",
            "235/235 [==============================] - 4s 18ms/step - loss: 0.2760 - val_loss: 0.2785\n",
            "Epoch 16/100\n",
            "235/235 [==============================] - 4s 17ms/step - loss: 0.2761 - val_loss: 0.2783\n",
            "Epoch 17/100\n",
            "235/235 [==============================] - 4s 18ms/step - loss: 0.2761 - val_loss: 0.2786\n",
            "Epoch 18/100\n",
            "235/235 [==============================] - 4s 17ms/step - loss: 0.2750 - val_loss: 0.2781\n",
            "Epoch 19/100\n",
            "235/235 [==============================] - 4s 17ms/step - loss: 0.2756 - val_loss: 0.2779\n",
            "Epoch 20/100\n",
            "235/235 [==============================] - 4s 18ms/step - loss: 0.2755 - val_loss: 0.2779\n",
            "Epoch 21/100\n",
            "235/235 [==============================] - 4s 18ms/step - loss: 0.2747 - val_loss: 0.2777\n",
            "Epoch 22/100\n",
            "235/235 [==============================] - 4s 18ms/step - loss: 0.2752 - val_loss: 0.2777\n",
            "Epoch 23/100\n",
            "235/235 [==============================] - 4s 18ms/step - loss: 0.2753 - val_loss: 0.2773\n",
            "Epoch 24/100\n",
            "235/235 [==============================] - 4s 18ms/step - loss: 0.2747 - val_loss: 0.2775\n",
            "Epoch 25/100\n",
            "235/235 [==============================] - 4s 18ms/step - loss: 0.2741 - val_loss: 0.2776\n",
            "Epoch 26/100\n",
            "235/235 [==============================] - 4s 18ms/step - loss: 0.2748 - val_loss: 0.2771\n",
            "Epoch 27/100\n",
            "235/235 [==============================] - 4s 18ms/step - loss: 0.2742 - val_loss: 0.2770\n",
            "Epoch 28/100\n",
            "235/235 [==============================] - 4s 18ms/step - loss: 0.2743 - val_loss: 0.2769\n",
            "Epoch 29/100\n",
            "235/235 [==============================] - 4s 18ms/step - loss: 0.2740 - val_loss: 0.2768\n",
            "Epoch 30/100\n",
            "235/235 [==============================] - 4s 18ms/step - loss: 0.2737 - val_loss: 0.2767\n",
            "Epoch 31/100\n",
            "235/235 [==============================] - 4s 18ms/step - loss: 0.2736 - val_loss: 0.2765\n",
            "Epoch 32/100\n",
            "235/235 [==============================] - 4s 18ms/step - loss: 0.2743 - val_loss: 0.2763\n",
            "Epoch 33/100\n",
            "235/235 [==============================] - 4s 18ms/step - loss: 0.2738 - val_loss: 0.2765\n",
            "Epoch 34/100\n",
            "235/235 [==============================] - 4s 18ms/step - loss: 0.2738 - val_loss: 0.2763\n",
            "Epoch 35/100\n",
            "235/235 [==============================] - 4s 18ms/step - loss: 0.2739 - val_loss: 0.2766\n",
            "Epoch 36/100\n",
            "235/235 [==============================] - 4s 18ms/step - loss: 0.2734 - val_loss: 0.2761\n",
            "Epoch 37/100\n",
            "235/235 [==============================] - 4s 18ms/step - loss: 0.2730 - val_loss: 0.2760\n",
            "Epoch 38/100\n",
            "235/235 [==============================] - 4s 19ms/step - loss: 0.2739 - val_loss: 0.2760\n",
            "Epoch 39/100\n",
            "235/235 [==============================] - 4s 18ms/step - loss: 0.2738 - val_loss: 0.2760\n",
            "Epoch 40/100\n",
            "235/235 [==============================] - 4s 18ms/step - loss: 0.2733 - val_loss: 0.2757\n",
            "Epoch 41/100\n",
            "235/235 [==============================] - 4s 18ms/step - loss: 0.2730 - val_loss: 0.2759\n",
            "Epoch 42/100\n",
            "235/235 [==============================] - 4s 18ms/step - loss: 0.2726 - val_loss: 0.2756\n",
            "Epoch 43/100\n",
            "235/235 [==============================] - 4s 18ms/step - loss: 0.2731 - val_loss: 0.2756\n",
            "Epoch 44/100\n",
            "235/235 [==============================] - 4s 18ms/step - loss: 0.2725 - val_loss: 0.2757\n",
            "Epoch 45/100\n",
            "235/235 [==============================] - 4s 18ms/step - loss: 0.2732 - val_loss: 0.2753\n",
            "Epoch 46/100\n",
            "235/235 [==============================] - 4s 19ms/step - loss: 0.2728 - val_loss: 0.2757\n",
            "Epoch 47/100\n",
            "235/235 [==============================] - 4s 19ms/step - loss: 0.2727 - val_loss: 0.2753\n",
            "Epoch 48/100\n",
            "235/235 [==============================] - 4s 18ms/step - loss: 0.2731 - val_loss: 0.2752\n",
            "Epoch 49/100\n",
            "235/235 [==============================] - 4s 18ms/step - loss: 0.2722 - val_loss: 0.2753\n",
            "Epoch 50/100\n",
            "235/235 [==============================] - 4s 18ms/step - loss: 0.2721 - val_loss: 0.2752\n",
            "Epoch 51/100\n",
            "235/235 [==============================] - 4s 18ms/step - loss: 0.2723 - val_loss: 0.2752\n",
            "Epoch 52/100\n",
            "235/235 [==============================] - 4s 18ms/step - loss: 0.2727 - val_loss: 0.2751\n",
            "Epoch 53/100\n",
            "235/235 [==============================] - 4s 18ms/step - loss: 0.2729 - val_loss: 0.2752\n",
            "Epoch 54/100\n",
            "235/235 [==============================] - 4s 18ms/step - loss: 0.2721 - val_loss: 0.2751\n",
            "Epoch 55/100\n",
            "235/235 [==============================] - 4s 18ms/step - loss: 0.2722 - val_loss: 0.2751\n",
            "Epoch 56/100\n",
            "235/235 [==============================] - 4s 18ms/step - loss: 0.2720 - val_loss: 0.2750\n",
            "Epoch 57/100\n",
            "235/235 [==============================] - 4s 17ms/step - loss: 0.2721 - val_loss: 0.2748\n",
            "Epoch 58/100\n",
            "235/235 [==============================] - 4s 18ms/step - loss: 0.2720 - val_loss: 0.2749\n",
            "Epoch 59/100\n",
            "235/235 [==============================] - 4s 18ms/step - loss: 0.2721 - val_loss: 0.2749\n",
            "Epoch 60/100\n",
            "235/235 [==============================] - 4s 18ms/step - loss: 0.2721 - val_loss: 0.2750\n",
            "Epoch 61/100\n",
            "235/235 [==============================] - 4s 18ms/step - loss: 0.2716 - val_loss: 0.2747\n",
            "Epoch 62/100\n",
            "235/235 [==============================] - 4s 18ms/step - loss: 0.2720 - val_loss: 0.2745\n",
            "Epoch 63/100\n",
            "235/235 [==============================] - 4s 18ms/step - loss: 0.2716 - val_loss: 0.2746\n",
            "Epoch 64/100\n",
            "235/235 [==============================] - 4s 18ms/step - loss: 0.2722 - val_loss: 0.2745\n",
            "Epoch 65/100\n",
            "235/235 [==============================] - 4s 18ms/step - loss: 0.2714 - val_loss: 0.2745\n",
            "Epoch 66/100\n",
            "235/235 [==============================] - 4s 18ms/step - loss: 0.2722 - val_loss: 0.2746\n",
            "Epoch 67/100\n",
            "235/235 [==============================] - 4s 18ms/step - loss: 0.2723 - val_loss: 0.2745\n",
            "Epoch 68/100\n",
            "235/235 [==============================] - 4s 19ms/step - loss: 0.2719 - val_loss: 0.2743\n",
            "Epoch 69/100\n",
            "235/235 [==============================] - 4s 18ms/step - loss: 0.2711 - val_loss: 0.2744\n",
            "Epoch 70/100\n",
            "235/235 [==============================] - 4s 18ms/step - loss: 0.2716 - val_loss: 0.2746\n",
            "Epoch 71/100\n",
            "235/235 [==============================] - 4s 19ms/step - loss: 0.2716 - val_loss: 0.2743\n",
            "Epoch 72/100\n",
            "235/235 [==============================] - 4s 18ms/step - loss: 0.2714 - val_loss: 0.2742\n",
            "Epoch 73/100\n",
            "235/235 [==============================] - 4s 18ms/step - loss: 0.2717 - val_loss: 0.2745\n",
            "Epoch 74/100\n",
            "235/235 [==============================] - 4s 18ms/step - loss: 0.2710 - val_loss: 0.2744\n",
            "Epoch 75/100\n",
            "235/235 [==============================] - 4s 18ms/step - loss: 0.2713 - val_loss: 0.2742\n",
            "Epoch 76/100\n",
            "235/235 [==============================] - 4s 18ms/step - loss: 0.2711 - val_loss: 0.2741\n",
            "Epoch 77/100\n",
            "235/235 [==============================] - 4s 18ms/step - loss: 0.2720 - val_loss: 0.2742\n",
            "Epoch 78/100\n",
            "235/235 [==============================] - 4s 18ms/step - loss: 0.2711 - val_loss: 0.2740\n",
            "Epoch 79/100\n",
            "235/235 [==============================] - 4s 18ms/step - loss: 0.2715 - val_loss: 0.2742\n",
            "Epoch 80/100\n",
            "235/235 [==============================] - 4s 18ms/step - loss: 0.2711 - val_loss: 0.2742\n",
            "Epoch 81/100\n",
            "235/235 [==============================] - 4s 18ms/step - loss: 0.2716 - val_loss: 0.2741\n",
            "Epoch 82/100\n",
            "235/235 [==============================] - 4s 18ms/step - loss: 0.2714 - val_loss: 0.2742\n",
            "Epoch 83/100\n",
            "235/235 [==============================] - 4s 18ms/step - loss: 0.2710 - val_loss: 0.2742\n",
            "Epoch 84/100\n",
            "235/235 [==============================] - 4s 18ms/step - loss: 0.2709 - val_loss: 0.2740\n",
            "Epoch 85/100\n",
            "235/235 [==============================] - 4s 18ms/step - loss: 0.2712 - val_loss: 0.2739\n",
            "Epoch 86/100\n",
            "235/235 [==============================] - 4s 18ms/step - loss: 0.2712 - val_loss: 0.2739\n",
            "Epoch 87/100\n",
            "235/235 [==============================] - 4s 18ms/step - loss: 0.2705 - val_loss: 0.2739\n",
            "Epoch 88/100\n",
            "235/235 [==============================] - 4s 18ms/step - loss: 0.2709 - val_loss: 0.2738\n",
            "Epoch 89/100\n",
            "235/235 [==============================] - 4s 18ms/step - loss: 0.2708 - val_loss: 0.2738\n",
            "Epoch 90/100\n",
            "235/235 [==============================] - 4s 18ms/step - loss: 0.2710 - val_loss: 0.2737\n",
            "Epoch 91/100\n",
            "235/235 [==============================] - 4s 18ms/step - loss: 0.2713 - val_loss: 0.2740\n",
            "Epoch 92/100\n",
            "235/235 [==============================] - 4s 18ms/step - loss: 0.2708 - val_loss: 0.2738\n",
            "Epoch 93/100\n",
            "235/235 [==============================] - 4s 18ms/step - loss: 0.2706 - val_loss: 0.2737\n",
            "Epoch 94/100\n",
            "235/235 [==============================] - 4s 18ms/step - loss: 0.2704 - val_loss: 0.2736\n",
            "Epoch 95/100\n",
            "235/235 [==============================] - 4s 19ms/step - loss: 0.2710 - val_loss: 0.2736\n",
            "Epoch 96/100\n",
            "235/235 [==============================] - 4s 18ms/step - loss: 0.2712 - val_loss: 0.2736\n",
            "Epoch 97/100\n",
            "235/235 [==============================] - 4s 18ms/step - loss: 0.2706 - val_loss: 0.2735\n",
            "Epoch 98/100\n",
            "235/235 [==============================] - 4s 19ms/step - loss: 0.2708 - val_loss: 0.2736\n",
            "Epoch 99/100\n",
            "235/235 [==============================] - 4s 17ms/step - loss: 0.2710 - val_loss: 0.2734\n",
            "Epoch 100/100\n",
            "235/235 [==============================] - 4s 18ms/step - loss: 0.2708 - val_loss: 0.2734\n"
          ],
          "name": "stdout"
        },
        {
          "output_type": "execute_result",
          "data": {
            "text/plain": [
              "<tensorflow.python.keras.callbacks.History at 0x7fd2d6eda350>"
            ]
          },
          "metadata": {
            "tags": []
          },
          "execution_count": 58
        }
      ]
    },
    {
      "cell_type": "code",
      "metadata": {
        "colab": {
          "base_uri": "https://localhost:8080/",
          "height": 264
        },
        "id": "LDQqikzA5ljP",
        "outputId": "f404f9a0-10a2-4670-e3ed-f3a35144893f"
      },
      "source": [
        "\n",
        "plot_autoencoder_outputs(autoencoder, 5, (28, 28))"
      ],
      "execution_count": null,
      "outputs": [
        {
          "output_type": "display_data",
          "data": {
            "image/png": "[encoded data removed]",
            "text/plain": [
              "<Figure size 720x324 with 10 Axes>"
            ]
          },
          "metadata": {
            "tags": [],
            "needs_background": "light"
          }
        }
      ]
    },
    {
      "cell_type": "code",
      "metadata": {
        "id": "xKOdWAcHsSf4"
      },
      "source": [
        "def plot_autoencoder_outputs(autoencoder, n, dims):\n",
        "    decoded_imgs = autoencoder.predict(x_test)\n",
        "\n",
        " \n",
        "    n = 5\n",
        "    plt.figure(figsize=(10, 4.5))\n",
        "    for i in range(n):\n",
        "        # plot original image\n",
        "        ax = plt.subplot(2, n, i + 1)\n",
        "        plt.imshow(x_test[i].reshape(*dims))\n",
        "        plt.gray()\n",
        "        ax.get_xaxis().set_visible(False)\n",
        "        ax.get_yaxis().set_visible(False)\n",
        "        if i == n/2:\n",
        "            ax.set_title('Original Images')\n",
        "\n",
        "        # plot reconstruction \n",
        "        ax = plt.subplot(2, n, i + 1 + n)\n",
        "        plt.imshow(decoded_imgs[i].reshape(*dims))\n",
        "        plt.gray()\n",
        "        ax.get_xaxis().set_visible(False)\n",
        "        ax.get_yaxis().set_visible(False)\n",
        "        if i == n/2:\n",
        "            ax.set_title('Reconstructed Images')\n",
        "    plt.show()"
      ],
      "execution_count": null,
      "outputs": []
    },
    {
      "cell_type": "markdown",
      "metadata": {
        "id": "haOdXcu59jhl"
      },
      "source": [
        "# ######## Denoising Autoencoder ##############***\n"
      ]
    },
    {
      "cell_type": "code",
      "metadata": {
        "id": "i7llkQzx5PIO"
      },
      "source": [
        "noise_factor = 0.4\n",
        "x_train_noisy = x_train + noise_factor * np.random.normal(size=x_train.shape) \n",
        "x_test_noisy = x_test + noise_factor * np.random.normal(size=x_test.shape)\n",
        "\n",
        "x_train_noisy = np.clip(x_train_noisy, 0.0, 1.0)\n",
        "x_test_noisy = np.clip(x_test_noisy, 0.0, 1.0)"
      ],
      "execution_count": null,
      "outputs": []
    },
    {
      "cell_type": "code",
      "metadata": {
        "colab": {
          "base_uri": "https://localhost:8080/",
          "height": 264
        },
        "id": "XsxDadsL5PJp",
        "outputId": "4ac70bf0-98b1-4a7c-e352-d2a22c393d52"
      },
      "source": [
        "n = 5\n",
        "plt.figure(figsize=(10, 4.5))\n",
        "for i in range(n):\n",
        "    # plot original image\n",
        "    ax = plt.subplot(2, n, i + 1)\n",
        "    plt.imshow(x_test[i].reshape(28, 28))\n",
        "    plt.gray()\n",
        "    ax.get_xaxis().set_visible(False)\n",
        "    ax.get_yaxis().set_visible(False)\n",
        "    if i == n/2:\n",
        "        ax.set_title('Original Images')\n",
        "\n",
        "    # plot noisy image \n",
        "    ax = plt.subplot(2, n, i + 1 + n)\n",
        "    plt.imshow(x_test_noisy[i].reshape(28, 28))\n",
        "    plt.gray()\n",
        "    ax.get_xaxis().set_visible(False)\n",
        "    ax.get_yaxis().set_visible(False)\n",
        "    if i == n/2:\n",
        "        ax.set_title('Noisy Input')"
      ],
      "execution_count": null,
      "outputs": [
        {
          "output_type": "display_data",
          "data": {
            "image/png": "[encoded data removed]",
            "text/plain": [
              "<Figure size 720x324 with 10 Axes>"
            ]
          },
          "metadata": {
            "tags": [],
            "needs_background": "light"
          }
        }
      ]
    },
    {
      "cell_type": "code",
      "metadata": {
        "colab": {
          "base_uri": "https://localhost:8080/"
        },
        "id": "KzgTCPZusSjX",
        "outputId": "ca6fd47e-cac6-48ec-cbdd-508e737c3a95"
      },
      "source": [
        "encoding_dim = 32  \n",
        "input_img = keras.Input(shape=(784,))\n",
        "encoded = layers.Dense(encoding_dim, activation='relu')(input_img)\n",
        "decoded = layers.Dense(784, activation='sigmoid')(encoded)\n",
        "autoencoder = keras.Model(input_img, decoded)\n",
        "autoencoder.compile(optimizer='adam', loss='binary_crossentropy')\n",
        "autoencoder.fit(x_train_noisy, x_train, epochs=10)"
      ],
      "execution_count": null,
      "outputs": [
        {
          "output_type": "stream",
          "text": [
            "Epoch 1/10\n",
            "1875/1875 [==============================] - 5s 2ms/step - loss: 0.3903\n",
            "Epoch 2/10\n",
            "1875/1875 [==============================] - 4s 2ms/step - loss: 0.3132\n",
            "Epoch 3/10\n",
            "1875/1875 [==============================] - 5s 2ms/step - loss: 0.3041\n",
            "Epoch 4/10\n",
            "1875/1875 [==============================] - 5s 2ms/step - loss: 0.3011\n",
            "Epoch 5/10\n",
            "1875/1875 [==============================] - 5s 2ms/step - loss: 0.2991\n",
            "Epoch 6/10\n",
            "1875/1875 [==============================] - 5s 2ms/step - loss: 0.2987\n",
            "Epoch 7/10\n",
            "1875/1875 [==============================] - 5s 2ms/step - loss: 0.2985\n",
            "Epoch 8/10\n",
            "1875/1875 [==============================] - 5s 2ms/step - loss: 0.2992\n",
            "Epoch 9/10\n",
            "1875/1875 [==============================] - 4s 2ms/step - loss: 0.2985\n",
            "Epoch 10/10\n",
            "1875/1875 [==============================] - 4s 2ms/step - loss: 0.2986\n"
          ],
          "name": "stdout"
        },
        {
          "output_type": "execute_result",
          "data": {
            "text/plain": [
              "<tensorflow.python.keras.callbacks.History at 0x7fd2d11067d0>"
            ]
          },
          "metadata": {
            "tags": []
          },
          "execution_count": 61
        }
      ]
    },
    {
      "cell_type": "code",
      "metadata": {
        "colab": {
          "base_uri": "https://localhost:8080/",
          "height": 398
        },
        "id": "o27YbJGzsSml",
        "outputId": "aa344994-1253-4900-c842-c3eadfb9fdc1"
      },
      "source": [
        "n = 5\n",
        "plt.figure(figsize=(10, 7))\n",
        "\n",
        "images = autoencoder.predict(x_test_noisy)\n",
        "\n",
        "for i in range(n):\n",
        "    # plot original image\n",
        "    ax = plt.subplot(3, n, i + 1)\n",
        "    plt.imshow(x_test[i].reshape(28, 28))\n",
        "    plt.gray()\n",
        "    ax.get_xaxis().set_visible(False)\n",
        "    ax.get_yaxis().set_visible(False)\n",
        "    if i == n/2:\n",
        "        ax.set_title('Original Images')\n",
        "\n",
        "    # plot noisy image \n",
        "    ax = plt.subplot(3, n, i + 1 + n)\n",
        "    plt.imshow(x_test_noisy[i].reshape(28, 28))\n",
        "    plt.gray()\n",
        "    ax.get_xaxis().set_visible(False)\n",
        "    ax.get_yaxis().set_visible(False)\n",
        "    if i == n/2:\n",
        "        ax.set_title('Noisy Input')\n",
        "        \n",
        "    # plot noisy image \n",
        "    ax = plt.subplot(3, n, i + 1 + 2*n)\n",
        "    plt.imshow(images[i].reshape(28, 28))\n",
        "    plt.gray()\n",
        "    ax.get_xaxis().set_visible(False)\n",
        "    ax.get_yaxis().set_visible(False)\n",
        "    if i == n/2:\n",
        "        ax.set_title('Autoencoder Output')"
      ],
      "execution_count": null,
      "outputs": [
        {
          "output_type": "display_data",
          "data": {
            "image/png": "[encoded data removed]",
            "text/plain": [
              "<Figure size 720x504 with 15 Axes>"
            ]
          },
          "metadata": {
            "tags": [],
            "needs_background": "light"
          }
        }
      ]
    },
    {
      "cell_type": "markdown",
      "metadata": {
        "id": "vIHByVJseXUM"
      },
      "source": [
        "######### VARIATIONAL AUTO ENCODER #########################\n",
        "\n",
        "\n"
      ]
    },
    {
      "cell_type": "code",
      "metadata": {
        "colab": {
          "base_uri": "https://localhost:8080/"
        },
        "id": "eb9Od1f8ecSS",
        "outputId": "2581e680-0687-4f00-c740-544c7e31d026"
      },
      "source": [
        "(x_train, y_train), (x_test, y_test) = mnist.load_data()\n",
        "\n",
        "x_train = x_train.astype('float32') / 255.\n",
        "x_test = x_test.astype('float32') / 255.\n",
        "x_train = x_train.reshape((len(x_train), np.prod(x_train.shape[1:])))\n",
        "x_test = x_test.reshape((len(x_test), np.prod(x_test.shape[1:])))"
      ],
      "execution_count": 21,
      "outputs": [
        {
          "output_type": "stream",
          "text": [
            "Downloading data from https://storage.googleapis.com/tensorflow/tf-keras-datasets/mnist.npz\n",
            "11493376/11490434 [==============================] - 0s 0us/step\n"
          ],
          "name": "stdout"
        }
      ]
    },
    {
      "cell_type": "code",
      "metadata": {
        "id": "VRwpOms3USdv"
      },
      "source": [
        "original_dim = 28 * 28\n",
        "intermediate_dim = 64\n",
        "latent_dim = 2\n",
        "\n",
        "inputs = keras.Input(shape=(original_dim,))\n",
        "h = layers.Dense(intermediate_dim, activation='relu')(inputs)\n",
        "z_mean = layers.Dense(latent_dim)(h)\n",
        "z_log_sigma = layers.Dense(latent_dim)(h)"
      ],
      "execution_count": 22,
      "outputs": []
    },
    {
      "cell_type": "code",
      "metadata": {
        "id": "Rq18kqKTUShF"
      },
      "source": [
        "from keras import backend as K\n",
        "\n",
        "def sampling(args):\n",
        "    z_mean, z_log_sigma = args\n",
        "    epsilon = K.random_normal(shape=(K.shape(z_mean)[0], latent_dim),mean=0., stddev=0.1)\n",
        "    return z_mean + K.exp(z_log_sigma) * epsilon\n",
        "\n",
        "z = layers.Lambda(sampling)([z_mean, z_log_sigma])"
      ],
      "execution_count": 23,
      "outputs": []
    },
    {
      "cell_type": "code",
      "metadata": {
        "id": "HwPkGSgVUSko"
      },
      "source": [
        "encoder = keras.Model(inputs, [z_mean, z_log_sigma, z], name='encoder')\n",
        "latent_inputs = keras.Input(shape=(latent_dim,), name='z_sampling')\n",
        "x = layers.Dense(intermediate_dim, activation='relu')(latent_inputs)\n",
        "outputs = layers.Dense(original_dim, activation='sigmoid')(x)\n",
        "decoder = keras.Model(latent_inputs, outputs, name='decoder')\n",
        "\n",
        "outputs = decoder(encoder(inputs)[2])\n",
        "vae = keras.Model(inputs, outputs, name='vae_mlp')"
      ],
      "execution_count": 24,
      "outputs": []
    },
    {
      "cell_type": "code",
      "metadata": {
        "colab": {
          "base_uri": "https://localhost:8080/"
        },
        "id": "HoLzTCqNUSnl",
        "outputId": "dd9608d3-75ec-4918-a513-8815d2ec2823"
      },
      "source": [
        "reconstruction_loss = keras.losses.binary_crossentropy(inputs, outputs)\n",
        "reconstruction_loss =reconstruction_loss*original_dim\n",
        "kl_loss = 1 + z_log_sigma - K.square(z_mean) - K.exp(z_log_sigma)\n",
        "kl_loss = K.sum(kl_loss, axis=-1)\n",
        "kl_loss = kl_loss*-0.5\n",
        "vae_loss = K.mean(reconstruction_loss + kl_loss)\n",
        "vae.add_loss(vae_loss)\n",
        "vae.compile(optimizer='adam')\n",
        "vae.fit(x_train, x_train,epochs=100,batch_size=32,validation_data=(x_test, x_test))"
      ],
      "execution_count": 28,
      "outputs": [
        {
          "output_type": "stream",
          "text": [
            "Epoch 1/100\n",
            "1875/1875 [==============================] - 8s 4ms/step - loss: 220.1720 - val_loss: 168.0197\n",
            "Epoch 2/100\n",
            "1875/1875 [==============================] - 7s 4ms/step - loss: 167.9434 - val_loss: 163.2955\n",
            "Epoch 3/100\n",
            "1875/1875 [==============================] - 7s 4ms/step - loss: 163.4687 - val_loss: 159.8542\n",
            "Epoch 4/100\n",
            "1875/1875 [==============================] - 7s 4ms/step - loss: 159.6412 - val_loss: 157.6017\n",
            "Epoch 5/100\n",
            "1875/1875 [==============================] - 7s 4ms/step - loss: 157.5168 - val_loss: 156.1205\n",
            "Epoch 6/100\n",
            "1875/1875 [==============================] - 7s 4ms/step - loss: 155.8018 - val_loss: 154.6892\n",
            "Epoch 7/100\n",
            "1875/1875 [==============================] - 7s 4ms/step - loss: 154.2317 - val_loss: 153.8075\n",
            "Epoch 8/100\n",
            "1875/1875 [==============================] - 7s 4ms/step - loss: 153.3720 - val_loss: 153.0613\n",
            "Epoch 9/100\n",
            "1875/1875 [==============================] - 7s 4ms/step - loss: 153.1390 - val_loss: 152.2633\n",
            "Epoch 10/100\n",
            "1875/1875 [==============================] - 7s 4ms/step - loss: 152.3377 - val_loss: 151.7888\n",
            "Epoch 11/100\n",
            "1875/1875 [==============================] - 7s 4ms/step - loss: 151.5384 - val_loss: 151.3009\n",
            "Epoch 12/100\n",
            "1875/1875 [==============================] - 7s 4ms/step - loss: 151.0011 - val_loss: 150.9156\n",
            "Epoch 13/100\n",
            "1875/1875 [==============================] - 7s 4ms/step - loss: 150.4880 - val_loss: 150.4886\n",
            "Epoch 14/100\n",
            "1875/1875 [==============================] - 7s 4ms/step - loss: 150.1988 - val_loss: 150.1201\n",
            "Epoch 15/100\n",
            "1875/1875 [==============================] - 7s 4ms/step - loss: 150.1515 - val_loss: 149.8287\n",
            "Epoch 16/100\n",
            "1875/1875 [==============================] - 7s 4ms/step - loss: 149.3183 - val_loss: 149.5710\n",
            "Epoch 17/100\n",
            "1875/1875 [==============================] - 7s 4ms/step - loss: 149.0969 - val_loss: 149.1757\n",
            "Epoch 18/100\n",
            "1875/1875 [==============================] - 7s 4ms/step - loss: 148.6862 - val_loss: 149.1149\n",
            "Epoch 19/100\n",
            "1875/1875 [==============================] - 7s 4ms/step - loss: 148.9581 - val_loss: 148.9964\n",
            "Epoch 20/100\n",
            "1875/1875 [==============================] - 7s 4ms/step - loss: 148.5146 - val_loss: 148.9986\n",
            "Epoch 21/100\n",
            "1875/1875 [==============================] - 7s 4ms/step - loss: 148.3444 - val_loss: 148.5563\n",
            "Epoch 22/100\n",
            "1875/1875 [==============================] - 7s 4ms/step - loss: 147.9639 - val_loss: 148.4147\n",
            "Epoch 23/100\n",
            "1875/1875 [==============================] - 7s 4ms/step - loss: 148.0494 - val_loss: 148.2952\n",
            "Epoch 24/100\n",
            "1875/1875 [==============================] - 7s 4ms/step - loss: 147.7461 - val_loss: 148.0426\n",
            "Epoch 25/100\n",
            "1875/1875 [==============================] - 7s 4ms/step - loss: 147.0371 - val_loss: 147.8662\n",
            "Epoch 26/100\n",
            "1875/1875 [==============================] - 7s 4ms/step - loss: 147.6401 - val_loss: 147.8052\n",
            "Epoch 27/100\n",
            "1875/1875 [==============================] - 7s 4ms/step - loss: 147.3218 - val_loss: 147.7436\n",
            "Epoch 28/100\n",
            "1875/1875 [==============================] - 7s 4ms/step - loss: 146.8072 - val_loss: 147.7919\n",
            "Epoch 29/100\n",
            "1875/1875 [==============================] - 7s 4ms/step - loss: 146.6318 - val_loss: 147.4619\n",
            "Epoch 30/100\n",
            "1875/1875 [==============================] - 7s 4ms/step - loss: 146.7998 - val_loss: 147.4879\n",
            "Epoch 31/100\n",
            "1875/1875 [==============================] - 7s 4ms/step - loss: 146.2244 - val_loss: 147.3392\n",
            "Epoch 32/100\n",
            "1875/1875 [==============================] - 7s 4ms/step - loss: 146.5259 - val_loss: 147.6602\n",
            "Epoch 33/100\n",
            "1875/1875 [==============================] - 7s 4ms/step - loss: 146.2450 - val_loss: 147.4989\n",
            "Epoch 34/100\n",
            "1875/1875 [==============================] - 7s 4ms/step - loss: 146.1359 - val_loss: 147.1550\n",
            "Epoch 35/100\n",
            "1875/1875 [==============================] - 7s 4ms/step - loss: 146.0127 - val_loss: 146.9813\n",
            "Epoch 36/100\n",
            "1875/1875 [==============================] - 7s 4ms/step - loss: 145.5720 - val_loss: 146.8400\n",
            "Epoch 37/100\n",
            "1875/1875 [==============================] - 7s 4ms/step - loss: 146.1383 - val_loss: 147.0374\n",
            "Epoch 38/100\n",
            "1875/1875 [==============================] - 7s 4ms/step - loss: 145.8713 - val_loss: 146.9197\n",
            "Epoch 39/100\n",
            "1875/1875 [==============================] - 7s 4ms/step - loss: 145.5056 - val_loss: 146.7158\n",
            "Epoch 40/100\n",
            "1875/1875 [==============================] - 7s 4ms/step - loss: 145.7314 - val_loss: 146.7128\n",
            "Epoch 41/100\n",
            "1875/1875 [==============================] - 7s 4ms/step - loss: 145.5827 - val_loss: 146.5779\n",
            "Epoch 42/100\n",
            "1875/1875 [==============================] - 7s 4ms/step - loss: 145.5248 - val_loss: 146.6551\n",
            "Epoch 43/100\n",
            "1875/1875 [==============================] - 7s 4ms/step - loss: 145.5739 - val_loss: 146.5925\n",
            "Epoch 44/100\n",
            "1875/1875 [==============================] - 7s 4ms/step - loss: 145.0028 - val_loss: 146.5495\n",
            "Epoch 45/100\n",
            "1875/1875 [==============================] - 7s 4ms/step - loss: 144.8289 - val_loss: 146.5542\n",
            "Epoch 46/100\n",
            "1875/1875 [==============================] - 7s 4ms/step - loss: 145.1924 - val_loss: 146.2825\n",
            "Epoch 47/100\n",
            "1875/1875 [==============================] - 7s 4ms/step - loss: 145.0959 - val_loss: 146.2380\n",
            "Epoch 48/100\n",
            "1875/1875 [==============================] - 7s 4ms/step - loss: 145.0476 - val_loss: 146.1454\n",
            "Epoch 49/100\n",
            "1875/1875 [==============================] - 6s 3ms/step - loss: 144.8629 - val_loss: 146.3126\n",
            "Epoch 50/100\n",
            "1875/1875 [==============================] - 7s 4ms/step - loss: 144.9875 - val_loss: 146.3404\n",
            "Epoch 51/100\n",
            "1875/1875 [==============================] - 7s 4ms/step - loss: 144.8527 - val_loss: 146.1214\n",
            "Epoch 52/100\n",
            "1875/1875 [==============================] - 7s 4ms/step - loss: 144.5944 - val_loss: 146.0931\n",
            "Epoch 53/100\n",
            "1875/1875 [==============================] - 7s 4ms/step - loss: 144.8043 - val_loss: 146.1262\n",
            "Epoch 54/100\n",
            "1875/1875 [==============================] - 7s 4ms/step - loss: 144.2536 - val_loss: 146.0403\n",
            "Epoch 55/100\n",
            "1875/1875 [==============================] - 7s 4ms/step - loss: 144.7861 - val_loss: 146.1191\n",
            "Epoch 56/100\n",
            "1875/1875 [==============================] - 7s 4ms/step - loss: 145.0134 - val_loss: 146.1756\n",
            "Epoch 57/100\n",
            "1875/1875 [==============================] - 7s 4ms/step - loss: 144.3977 - val_loss: 146.2049\n",
            "Epoch 58/100\n",
            "1875/1875 [==============================] - 7s 4ms/step - loss: 144.2027 - val_loss: 146.1433\n",
            "Epoch 59/100\n",
            "1875/1875 [==============================] - 7s 4ms/step - loss: 144.2156 - val_loss: 145.9648\n",
            "Epoch 60/100\n",
            "1875/1875 [==============================] - 7s 4ms/step - loss: 144.0823 - val_loss: 145.9020\n",
            "Epoch 61/100\n",
            "1875/1875 [==============================] - 7s 4ms/step - loss: 144.0940 - val_loss: 145.8820\n",
            "Epoch 62/100\n",
            "1875/1875 [==============================] - 7s 4ms/step - loss: 144.3744 - val_loss: 145.8506\n",
            "Epoch 63/100\n",
            "1875/1875 [==============================] - 7s 4ms/step - loss: 144.1039 - val_loss: 145.7497\n",
            "Epoch 64/100\n",
            "1875/1875 [==============================] - 7s 4ms/step - loss: 144.0693 - val_loss: 145.7908\n",
            "Epoch 65/100\n",
            "1875/1875 [==============================] - 7s 4ms/step - loss: 144.1192 - val_loss: 145.5899\n",
            "Epoch 66/100\n",
            "1875/1875 [==============================] - 7s 4ms/step - loss: 144.0849 - val_loss: 145.5226\n",
            "Epoch 67/100\n",
            "1875/1875 [==============================] - 7s 4ms/step - loss: 143.8739 - val_loss: 145.8765\n",
            "Epoch 68/100\n",
            "1875/1875 [==============================] - 7s 4ms/step - loss: 143.8706 - val_loss: 145.7914\n",
            "Epoch 69/100\n",
            "1875/1875 [==============================] - 7s 4ms/step - loss: 143.8675 - val_loss: 145.9061\n",
            "Epoch 70/100\n",
            "1875/1875 [==============================] - 7s 4ms/step - loss: 143.6099 - val_loss: 145.5901\n",
            "Epoch 71/100\n",
            "1875/1875 [==============================] - 7s 4ms/step - loss: 143.7400 - val_loss: 145.5972\n",
            "Epoch 72/100\n",
            "1875/1875 [==============================] - 7s 4ms/step - loss: 143.5338 - val_loss: 145.7633\n",
            "Epoch 73/100\n",
            "1875/1875 [==============================] - 7s 4ms/step - loss: 143.3005 - val_loss: 145.4701\n",
            "Epoch 74/100\n",
            "1875/1875 [==============================] - 7s 4ms/step - loss: 143.5335 - val_loss: 145.7631\n",
            "Epoch 75/100\n",
            "1875/1875 [==============================] - 7s 4ms/step - loss: 143.9433 - val_loss: 145.4370\n",
            "Epoch 76/100\n",
            "1875/1875 [==============================] - 7s 4ms/step - loss: 143.2073 - val_loss: 145.6969\n",
            "Epoch 77/100\n",
            "1875/1875 [==============================] - 7s 4ms/step - loss: 143.7817 - val_loss: 145.7859\n",
            "Epoch 78/100\n",
            "1875/1875 [==============================] - 7s 4ms/step - loss: 143.3385 - val_loss: 145.3597\n",
            "Epoch 79/100\n",
            "1875/1875 [==============================] - 7s 4ms/step - loss: 143.4155 - val_loss: 145.4037\n",
            "Epoch 80/100\n",
            "1875/1875 [==============================] - 7s 4ms/step - loss: 143.6966 - val_loss: 145.2823\n",
            "Epoch 81/100\n",
            "1875/1875 [==============================] - 7s 4ms/step - loss: 143.4254 - val_loss: 145.5314\n",
            "Epoch 82/100\n",
            "1875/1875 [==============================] - 7s 4ms/step - loss: 143.5433 - val_loss: 145.5698\n",
            "Epoch 83/100\n",
            "1875/1875 [==============================] - 7s 4ms/step - loss: 143.4029 - val_loss: 145.4335\n",
            "Epoch 84/100\n",
            "1875/1875 [==============================] - 7s 4ms/step - loss: 142.8913 - val_loss: 145.3148\n",
            "Epoch 85/100\n",
            "1875/1875 [==============================] - 7s 4ms/step - loss: 143.1554 - val_loss: 145.9780\n",
            "Epoch 86/100\n",
            "1875/1875 [==============================] - 7s 4ms/step - loss: 143.2612 - val_loss: 145.5279\n",
            "Epoch 87/100\n",
            "1875/1875 [==============================] - 7s 4ms/step - loss: 143.4498 - val_loss: 145.3198\n",
            "Epoch 88/100\n",
            "1875/1875 [==============================] - 7s 4ms/step - loss: 142.7216 - val_loss: 145.1573\n",
            "Epoch 89/100\n",
            "1875/1875 [==============================] - 7s 4ms/step - loss: 143.3361 - val_loss: 145.2184\n",
            "Epoch 90/100\n",
            "1875/1875 [==============================] - 7s 4ms/step - loss: 143.2387 - val_loss: 145.2959\n",
            "Epoch 91/100\n",
            "1875/1875 [==============================] - 7s 4ms/step - loss: 143.4319 - val_loss: 145.0581\n",
            "Epoch 92/100\n",
            "1875/1875 [==============================] - 7s 4ms/step - loss: 143.2202 - val_loss: 145.4171\n",
            "Epoch 93/100\n",
            "1875/1875 [==============================] - 7s 4ms/step - loss: 143.1906 - val_loss: 145.1062\n",
            "Epoch 94/100\n",
            "1875/1875 [==============================] - 7s 4ms/step - loss: 143.1119 - val_loss: 145.2839\n",
            "Epoch 95/100\n",
            "1875/1875 [==============================] - 7s 4ms/step - loss: 143.1225 - val_loss: 145.0510\n",
            "Epoch 96/100\n",
            "1875/1875 [==============================] - 7s 4ms/step - loss: 142.6617 - val_loss: 145.2283\n",
            "Epoch 97/100\n",
            "1875/1875 [==============================] - 7s 4ms/step - loss: 142.8969 - val_loss: 145.2586\n",
            "Epoch 98/100\n",
            "1875/1875 [==============================] - 7s 4ms/step - loss: 142.9179 - val_loss: 145.2250\n",
            "Epoch 99/100\n",
            "1875/1875 [==============================] - 7s 4ms/step - loss: 142.6713 - val_loss: 145.3362\n",
            "Epoch 100/100\n",
            "1875/1875 [==============================] - 7s 4ms/step - loss: 142.9587 - val_loss: 145.2566\n"
          ],
          "name": "stdout"
        },
        {
          "output_type": "execute_result",
          "data": {
            "text/plain": [
              "<tensorflow.python.keras.callbacks.History at 0x7f8892ec80d0>"
            ]
          },
          "metadata": {
            "tags": []
          },
          "execution_count": 28
        }
      ]
    },
    {
      "cell_type": "code",
      "metadata": {
        "colab": {
          "base_uri": "https://localhost:8080/",
          "height": 397
        },
        "id": "j50o_b5bUSrN",
        "outputId": "993d642a-76f5-445a-d15d-a2566f14c51f"
      },
      "source": [
        "x_test_encoded = vae.predict(x_test)\n",
        "plt.figure(figsize=(6, 6))\n",
        "plt.scatter(x_test_encoded[:, 0], x_test_encoded[:, 1], c=y_test)\n",
        "plt.colorbar()\n",
        "plt.show()"
      ],
      "execution_count": 31,
      "outputs": [
        {
          "output_type": "display_data",
          "data": {
            "image/png": "[encoded data removed]",
            "text/plain": [
              "<Figure size 432x432 with 2 Axes>"
            ]
          },
          "metadata": {
            "tags": [],
            "needs_background": "light"
          }
        }
      ]
    },
    {
      "cell_type": "code",
      "metadata": {
        "id": "49fRAMmlsStg"
      },
      "source": [
        ""
      ],
      "execution_count": null,
      "outputs": []
    }
  ]
}